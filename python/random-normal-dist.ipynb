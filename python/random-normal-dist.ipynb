{
 "cells": [
  {
   "cell_type": "code",
   "execution_count": 6,
   "metadata": {},
   "outputs": [],
   "source": [
    "import numpy as np\n",
    "import seaborn as sns\n",
    "from scipy.stats import shapiro"
   ]
  },
  {
   "cell_type": "code",
   "execution_count": 4,
   "metadata": {},
   "outputs": [
    {
     "data": {
      "text/plain": [
       "array([5.52691927, 5.63050019, 5.87810976, 5.52500562, 5.71735281,\n",
       "       5.14513005, 5.7575455 , 4.86737136, 5.69646171, 5.74439015])"
      ]
     },
     "execution_count": 4,
     "metadata": {},
     "output_type": "execute_result"
    }
   ],
   "source": [
    "#Generate normal dist numbers\n",
    "\n",
    "random_num = np.random.randn(10)\n",
    "\n",
    "# std dev\n",
    "stddev = 0.5\n",
    "# median\n",
    "median = 5.2\n",
    "\n",
    "# to select median and variance\n",
    "random_num_set = stddev * random_num + median\n",
    "\n",
    "random_num_set"
   ]
  },
  {
   "cell_type": "code",
   "execution_count": null,
   "metadata": {},
   "outputs": [],
   "source": [
    "sns.utils.ci()"
   ]
  },
  {
   "cell_type": "code",
   "execution_count": 42,
   "metadata": {},
   "outputs": [],
   "source": [
    "# stat = ('count', 'frequency', 'probability', 'percent', 'density')\n",
    "\n",
    "# Histrogram\n",
    "# sns.histplot(random_num_set, stat = stat[0], bins = 10)\n",
    "\n",
    "# sns.displot(random_num_set, kde = True)"
   ]
  },
  {
   "cell_type": "code",
   "execution_count": 46,
   "metadata": {},
   "outputs": [
    {
     "data": {
      "text/plain": [
       "0.359842985868454"
      ]
     },
     "execution_count": 46,
     "metadata": {},
     "output_type": "execute_result"
    }
   ],
   "source": [
    "# Shapiro test\n",
    "# print(shapiro.__doc__)\n",
    "\n",
    "test = shapiro(random_num_set)\n",
    "\n",
    "test[1]"
   ]
  }
 ],
 "metadata": {
  "interpreter": {
   "hash": "916dbcbb3f70747c44a77c7bcd40155683ae19c65e1c03b4aa3499c5328201f1"
  },
  "kernelspec": {
   "display_name": "Python 3.8.10 64-bit",
   "language": "python",
   "name": "python3"
  },
  "language_info": {
   "codemirror_mode": {
    "name": "ipython",
    "version": 3
   },
   "file_extension": ".py",
   "mimetype": "text/x-python",
   "name": "python",
   "nbconvert_exporter": "python",
   "pygments_lexer": "ipython3",
   "version": "3.8.10"
  },
  "orig_nbformat": 4
 },
 "nbformat": 4,
 "nbformat_minor": 2
}
