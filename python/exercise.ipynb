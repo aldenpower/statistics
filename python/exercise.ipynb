{
 "cells": [
  {
   "cell_type": "code",
   "execution_count": 1,
   "metadata": {},
   "outputs": [],
   "source": [
    "import pandas as pd\n",
    "import matplotlib.pyplot as plt\n",
    "import seaborn as sns\n",
    "from main_class import createDataPlot\n",
    "from main_class import barPlot\n",
    "from main_class import pareto_plot"
   ]
  },
  {
   "cell_type": "code",
   "execution_count": 2,
   "metadata": {},
   "outputs": [
    {
     "data": {
      "text/html": [
       "<div>\n",
       "<style scoped>\n",
       "    .dataframe tbody tr th:only-of-type {\n",
       "        vertical-align: middle;\n",
       "    }\n",
       "\n",
       "    .dataframe tbody tr th {\n",
       "        vertical-align: top;\n",
       "    }\n",
       "\n",
       "    .dataframe thead th {\n",
       "        text-align: right;\n",
       "    }\n",
       "</style>\n",
       "<table border=\"1\" class=\"dataframe\">\n",
       "  <thead>\n",
       "    <tr style=\"text-align: right;\">\n",
       "      <th></th>\n",
       "      <th>month</th>\n",
       "      <th>failure time(min)</th>\n",
       "      <th>machine type</th>\n",
       "    </tr>\n",
       "  </thead>\n",
       "  <tbody>\n",
       "    <tr>\n",
       "      <th>0</th>\n",
       "      <td>1</td>\n",
       "      <td>17</td>\n",
       "      <td>TRANSPORTADOR ROLETES ELEVAÇÃO POR BIELA</td>\n",
       "    </tr>\n",
       "    <tr>\n",
       "      <th>1</th>\n",
       "      <td>1</td>\n",
       "      <td>15</td>\n",
       "      <td>TRANSPORTADOR ROLETES ELEVAÇÃO POR BIELA</td>\n",
       "    </tr>\n",
       "    <tr>\n",
       "      <th>2</th>\n",
       "      <td>1</td>\n",
       "      <td>11</td>\n",
       "      <td>OPEN GATE - BILANCELA</td>\n",
       "    </tr>\n",
       "    <tr>\n",
       "      <th>3</th>\n",
       "      <td>1</td>\n",
       "      <td>5</td>\n",
       "      <td>OPEN GATE - BILANCELA</td>\n",
       "    </tr>\n",
       "    <tr>\n",
       "      <th>4</th>\n",
       "      <td>1</td>\n",
       "      <td>6</td>\n",
       "      <td>OPEN GATE - BILANCELA</td>\n",
       "    </tr>\n",
       "  </tbody>\n",
       "</table>\n",
       "</div>"
      ],
      "text/plain": [
       "   month  failure time(min)                              machine type\n",
       "0      1                 17  TRANSPORTADOR ROLETES ELEVAÇÃO POR BIELA\n",
       "1      1                 15  TRANSPORTADOR ROLETES ELEVAÇÃO POR BIELA\n",
       "2      1                 11                     OPEN GATE - BILANCELA\n",
       "3      1                  5                     OPEN GATE - BILANCELA\n",
       "4      1                  6                     OPEN GATE - BILANCELA"
      ]
     },
     "execution_count": 2,
     "metadata": {},
     "output_type": "execute_result"
    }
   ],
   "source": [
    "# Load csv file\n",
    "df = pd.read_csv('./exerc2020-1.csv')\n",
    "\n",
    "df.head(5)"
   ]
  },
  {
   "cell_type": "code",
   "execution_count": 3,
   "metadata": {},
   "outputs": [
    {
     "data": {
      "text/html": [
       "<div>\n",
       "<style scoped>\n",
       "    .dataframe tbody tr th:only-of-type {\n",
       "        vertical-align: middle;\n",
       "    }\n",
       "\n",
       "    .dataframe tbody tr th {\n",
       "        vertical-align: top;\n",
       "    }\n",
       "\n",
       "    .dataframe thead th {\n",
       "        text-align: right;\n",
       "    }\n",
       "</style>\n",
       "<table border=\"1\" class=\"dataframe\">\n",
       "  <thead>\n",
       "    <tr style=\"text-align: right;\">\n",
       "      <th></th>\n",
       "      <th>month</th>\n",
       "      <th>failure time(min)</th>\n",
       "      <th>machine type</th>\n",
       "    </tr>\n",
       "  </thead>\n",
       "  <tbody>\n",
       "    <tr>\n",
       "      <th>0</th>\n",
       "      <td>1</td>\n",
       "      <td>17</td>\n",
       "      <td>TRANSPORTADOR ROLETES ELEVAÇÃO POR BIELA</td>\n",
       "    </tr>\n",
       "    <tr>\n",
       "      <th>1</th>\n",
       "      <td>1</td>\n",
       "      <td>15</td>\n",
       "      <td>TRANSPORTADOR ROLETES ELEVAÇÃO POR BIELA</td>\n",
       "    </tr>\n",
       "    <tr>\n",
       "      <th>2</th>\n",
       "      <td>1</td>\n",
       "      <td>11</td>\n",
       "      <td>OPEN GATE - BILANCELA</td>\n",
       "    </tr>\n",
       "    <tr>\n",
       "      <th>3</th>\n",
       "      <td>1</td>\n",
       "      <td>5</td>\n",
       "      <td>OPEN GATE - BILANCELA</td>\n",
       "    </tr>\n",
       "    <tr>\n",
       "      <th>4</th>\n",
       "      <td>1</td>\n",
       "      <td>6</td>\n",
       "      <td>OPEN GATE - BILANCELA</td>\n",
       "    </tr>\n",
       "  </tbody>\n",
       "</table>\n",
       "</div>"
      ],
      "text/plain": [
       "   month  failure time(min)                              machine type\n",
       "0      1                 17  TRANSPORTADOR ROLETES ELEVAÇÃO POR BIELA\n",
       "1      1                 15  TRANSPORTADOR ROLETES ELEVAÇÃO POR BIELA\n",
       "2      1                 11                     OPEN GATE - BILANCELA\n",
       "3      1                  5                     OPEN GATE - BILANCELA\n",
       "4      1                  6                     OPEN GATE - BILANCELA"
      ]
     },
     "execution_count": 3,
     "metadata": {},
     "output_type": "execute_result"
    }
   ],
   "source": [
    "# Month filter\n",
    "first_month = df[df['month'] == 1]\n",
    "second_month = df[df['month'] == 2]\n",
    "third_month = df[df['month'] == 3]\n",
    "\n",
    "first_month.head(5)"
   ]
  },
  {
   "cell_type": "markdown",
   "metadata": {},
   "source": [
    "## PLOT"
   ]
  },
  {
   "cell_type": "code",
   "execution_count": 4,
   "metadata": {},
   "outputs": [
    {
     "data": {
      "text/plain": [
       "(Index(['DISPOSITIVO DIMENSIONAL LATERAL', 'OPEN GATE - BILANCELA',\n",
       "        'PAINEL DE SOLDA', 'PINÇA AUTOMATICA', 'ROBO',\n",
       "        'TRANSPORTADOR ROLETES ELEVAÇÃO POR BIELA'],\n",
       "       dtype='object', name='machine type'),\n",
       " Index(['DISPOSITIVO DIMENSIONAL LATERAL', 'OPEN GATE - BILANCELA',\n",
       "        'PINÇA AUTOMATICA', 'ROBO'],\n",
       "       dtype='object', name='machine type'),\n",
       " Index(['DISPOSITIVO DIMENSIONAL LATERAL', 'OPEN GATE - BILANCELA',\n",
       "        'PINÇA AUTOMATICA'],\n",
       "       dtype='object', name='machine type'))"
      ]
     },
     "execution_count": 4,
     "metadata": {},
     "output_type": "execute_result"
    }
   ],
   "source": [
    "# Grouped by machine type\n",
    "first_grouped_machine = first_month.groupby('machine type')\n",
    "second_grouped_machine = second_month.groupby('machine type')\n",
    "third_grouped_machine = third_month.groupby('machine type')\n",
    "\n",
    "# Count by machine type\n",
    "count_first_grouped_machine = first_grouped_machine.count()\n",
    "count_second_grouped_machine = second_grouped_machine.count()\n",
    "count_third_grouped_machine = third_grouped_machine.count()\n",
    "\n",
    "# Sum by machine type\n",
    "sum_first_grouped_machine = first_grouped_machine.sum()\n",
    "sum_second_grouped_machine = second_grouped_machine.sum()\n",
    "sum_third_grouped_machine = third_grouped_machine.sum()\n",
    "\n",
    "# Index\n",
    "index1 = sum_first_grouped_machine.index\n",
    "index2 = sum_second_grouped_machine.index\n",
    "index3 = sum_third_grouped_machine.index\n",
    "\n",
    "index1, index2, index3"
   ]
  },
  {
   "cell_type": "code",
   "execution_count": 5,
   "metadata": {},
   "outputs": [],
   "source": [
    "value_sum1, name_sum1 = createDataPlot(index1, sum_first_grouped_machine, 'failure time(min)')\n",
    "value_sum2, name_sum2 = createDataPlot(index2, sum_second_grouped_machine, 'failure time(min)')\n",
    "value_sum3, name_sum3 = createDataPlot(index3, sum_third_grouped_machine, 'failure time(min)')\n",
    "\n",
    "value_count1, name_count1 = createDataPlot(index1, count_first_grouped_machine, 'failure time(min)')\n",
    "value_count2, name_count2 = createDataPlot(index2, count_second_grouped_machine, 'failure time(min)')\n",
    "value_count3, name_count3 = createDataPlot(index3, count_third_grouped_machine, 'failure time(min)')"
   ]
  },
  {
   "cell_type": "code",
   "execution_count": 21,
   "metadata": {},
   "outputs": [
    {
     "data": {
      "text/plain": [
       "<BarContainer object of 3 artists>"
      ]
     },
     "execution_count": 21,
     "metadata": {},
     "output_type": "execute_result"
    },
    {
     "data": {
      "image/png": "[encoded data removed]",
      "text/plain": [
       "<Figure size 432x288 with 1 Axes>"
      ]
     },
     "metadata": {},
     "output_type": "display_data"
    },
    {
     "data": {
      "image/png": "[encoded data removed]",
      "text/plain": [
       "<Figure size 432x288 with 1 Axes>"
      ]
     },
     "metadata": {},
     "output_type": "display_data"
    },
    {
     "data": {
      "image/png": "[encoded data removed]",
      "text/plain": [
       "<Figure size 432x288 with 1 Axes>"
      ]
     },
     "metadata": {},
     "output_type": "display_data"
    }
   ],
   "source": [
    "barPlot(name_sum1, value_sum1)\n",
    "barPlot(name_sum2, value_sum2)\n",
    "barPlot(name_sum3, value_sum3)"
   ]
  },
  {
   "cell_type": "code",
   "execution_count": 19,
   "metadata": {},
   "outputs": [
    {
     "name": "stdout",
     "output_type": "stream",
     "text": [
      "{'ps': 'Postscript', 'eps': 'Encapsulated Postscript', 'pdf': 'Portable Document Format', 'pgf': 'PGF code for LaTeX', 'png': 'Portable Network Graphics', 'raw': 'Raw RGBA bitmap', 'rgba': 'Raw RGBA bitmap', 'svg': 'Scalable Vector Graphics', 'svgz': 'Scalable Vector Graphics'}\n"
     ]
    }
   ],
   "source": [
    "# Save file \n",
    "print(fig.canvas.get_supported_filetypes())\n",
    "fig.savefig('./test.png', transparent=False, dpi=100, bbox_inches=\"tight\")"
   ]
  }
 ],
 "metadata": {
  "interpreter": {
   "hash": "916dbcbb3f70747c44a77c7bcd40155683ae19c65e1c03b4aa3499c5328201f1"
  },
  "kernelspec": {
   "display_name": "Python 3.8.10 64-bit",
   "language": "python",
   "name": "python3"
  },
  "language_info": {
   "codemirror_mode": {
    "name": "ipython",
    "version": 3
   },
   "file_extension": ".py",
   "mimetype": "text/x-python",
   "name": "python",
   "nbconvert_exporter": "python",
   "pygments_lexer": "ipython3",
   "version": "3.8.10"
  },
  "orig_nbformat": 4
 },
 "nbformat": 4,
 "nbformat_minor": 2
}
