{
 "cells": [
  {
   "cell_type": "code",
   "execution_count": 27,
   "metadata": {},
   "outputs": [],
   "source": [
    "import seaborn as sns\n",
    "import pandas as pd\n",
    "import numpy as np\n",
    "import matplotlib.pyplot as plt\n",
    "from scipy import stats\n"
   ]
  },
  {
   "cell_type": "code",
   "execution_count": 28,
   "metadata": {},
   "outputs": [],
   "source": [
    "# Datasets\n",
    "# df = sns.load_dataset('planets')\n",
    "df = sns.load_dataset('iris')\n",
    "# df = pd.read_csv('~/Desktop/rstudy/dados.csv')\n",
    "\n",
    "\n",
    "# Generate csv\n",
    "# planets.to_csv('~/Desktop/rstudy/name.csv')\n",
    "\n",
    "\n",
    "# df['sepal_width'].describe()\n",
    "\n",
    "unique_species = df['species'].unique()\n",
    "unique_species_setosa = df[df['species'] == unique_species[0]]\n",
    "unique_species_versicolor = df[df['species'] == unique_species[1]]\n",
    "unique_species_virginica = df[df['species'] == unique_species[2]]\n",
    "\n",
    "unique_species_setosa = unique_species_setosa['sepal_width']\n"
   ]
  },
  {
   "cell_type": "code",
   "execution_count": 29,
   "metadata": {},
   "outputs": [
    {
     "data": {
      "text/plain": [
       "count    50.000000\n",
       "mean      3.428000\n",
       "std       0.379064\n",
       "min       2.300000\n",
       "25%       3.200000\n",
       "50%       3.400000\n",
       "75%       3.675000\n",
       "max       4.400000\n",
       "Name: sepal_width, dtype: float64"
      ]
     },
     "execution_count": 29,
     "metadata": {},
     "output_type": "execute_result"
    }
   ],
   "source": [
    "unique_species_setosa.describe()"
   ]
  },
  {
   "cell_type": "code",
   "execution_count": 34,
   "metadata": {},
   "outputs": [
    {
     "name": "stdout",
     "output_type": "stream",
     "text": [
      "Index(['sepal_length', 'sepal_width', 'petal_length', 'petal_width',\n",
      "       'species'],\n",
      "      dtype='object')\n"
     ]
    },
    {
     "data": {
      "text/plain": [
       "'sepal_width'"
      ]
     },
     "execution_count": 34,
     "metadata": {},
     "output_type": "execute_result"
    }
   ],
   "source": [
    "coluna = 1\n",
    "print(df.columns)\n",
    "col = df.columns[coluna]\n",
    "col"
   ]
  },
  {
   "cell_type": "code",
   "execution_count": 38,
   "metadata": {},
   "outputs": [
    {
     "name": "stderr",
     "output_type": "stream",
     "text": [
      "/usr/lib/python3/dist-packages/matplotlib/cbook/__init__.py:1402: FutureWarning: Support for multi-dimensional indexing (e.g. `obj[:, None]`) is deprecated and will be removed in a future version.  Convert to a numpy array before indexing instead.\n",
      "  ndim = x[:, None].ndim\n",
      "/usr/lib/python3/dist-packages/matplotlib/axes/_base.py:276: FutureWarning: Support for multi-dimensional indexing (e.g. `obj[:, None]`) is deprecated and will be removed in a future version.  Convert to a numpy array before indexing instead.\n",
      "  x = x[:, np.newaxis]\n",
      "/usr/lib/python3/dist-packages/matplotlib/axes/_base.py:278: FutureWarning: Support for multi-dimensional indexing (e.g. `obj[:, None]`) is deprecated and will be removed in a future version.  Convert to a numpy array before indexing instead.\n",
      "  y = y[:, np.newaxis]\n"
     ]
    },
    {
     "data": {
      "text/plain": [
       "<seaborn.axisgrid.FacetGrid at 0x7fda0fa15790>"
      ]
     },
     "execution_count": 38,
     "metadata": {},
     "output_type": "execute_result"
    },
    {
     "data": {
      "image/png": "[encoded data removed]",
      "text/plain": [
       "<Figure size 432x288 with 1 Axes>"
      ]
     },
     "metadata": {
      "needs_background": "light"
     },
     "output_type": "display_data"
    },
    {
     "data": {
      "image/png": "[encoded data removed]",
      "text/plain": [
       "<Figure size 288x288 with 1 Axes>"
      ]
     },
     "metadata": {
      "needs_background": "light"
     },
     "output_type": "display_data"
    }
   ],
   "source": [
    "# sns.displot(df[col], kind = 'kde')\n",
    "# sns.displot(df[col], kind = 'hist', height = 4, aspect = 1)\n",
    "# sns.displot(df[col], kind = 'hist', height = 4, aspect = 1)\n",
    "\n",
    "\n",
    "sns.kdeplot(unique_species_setosa)\n",
    "sns.displot(unique_species_setosa, kind = 'hist', height = 4, aspect = 1)\n",
    "\n",
    "# sns.displot(random_num_set, kind = 'hist')"
   ]
  },
  {
   "cell_type": "code",
   "execution_count": 142,
   "metadata": {},
   "outputs": [
    {
     "name": "stdout",
     "output_type": "stream",
     "text": [
      "pvalue = 0.10113201290369034 alpha = 0.050000000000000044\n",
      "Normal dist\n"
     ]
    }
   ],
   "source": [
    "# Shapiro-Wilk test for normality.\n",
    "\n",
    "a, p = stats.shapiro(df[col])\n",
    "\n",
    "conf = 0.95\n",
    "alpha = 1 - conf\n",
    "\n",
    "if p < alpha:\n",
    "    print(f'pvalue = {p} alpha = {alpha}')\n",
    "    print('Not a normal dist')\n",
    "else:\n",
    "    print(f'pvalue = {p} alpha = {alpha}')\n",
    "    print('Normal dist')"
   ]
  },
  {
   "cell_type": "code",
   "execution_count": 24,
   "metadata": {},
   "outputs": [
    {
     "data": {
      "text/plain": [
       "0.19344025905535844"
      ]
     },
     "execution_count": 24,
     "metadata": {},
     "output_type": "execute_result"
    }
   ],
   "source": [
    "# Calculo da probabilidade de encontrar um valor especifico em uma dist normal usando uma media e um desvio padrao\n",
    "\n",
    "mean = unique_species_setosa.mean()\n",
    "std = unique_species_setosa.std()\n",
    "\n",
    "# probabilidade encontrar os valores 3.1 e 3.6 em uma dist normal com media e std selecionados\n",
    "prob31 = stats.norm.cdf(3.1, mean, std)\n",
    "prob36 = stats.norm.cdf(3.6, mean, std)\n",
    "\n",
    "# prob36 - prob31\n",
    "prob31"
   ]
  },
  {
   "cell_type": "code",
   "execution_count": 25,
   "metadata": {},
   "outputs": [
    {
     "data": {
      "text/plain": [
       "array([3.2  , 3.4  , 3.675])"
      ]
     },
     "execution_count": 25,
     "metadata": {},
     "output_type": "execute_result"
    }
   ],
   "source": [
    "# Quartil\n",
    "np.percentile(unique_species_setosa, [25, 50, 75])"
   ]
  }
 ],
 "metadata": {
  "interpreter": {
   "hash": "31f2aee4e71d21fbe5cf8b01ff0e069b9275f58929596ceb00d14d90e3e16cd6"
  },
  "kernelspec": {
   "display_name": "Python 3.8.10 64-bit",
   "language": "python",
   "name": "python3"
  },
  "language_info": {
   "codemirror_mode": {
    "name": "ipython",
    "version": 3
   },
   "file_extension": ".py",
   "mimetype": "text/x-python",
   "name": "python",
   "nbconvert_exporter": "python",
   "pygments_lexer": "ipython3",
   "version": "3.8.10"
  },
  "orig_nbformat": 4
 },
 "nbformat": 4,
 "nbformat_minor": 2
}
