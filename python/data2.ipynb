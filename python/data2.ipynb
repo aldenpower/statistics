{
 "cells": [
  {
   "cell_type": "code",
   "execution_count": 3,
   "metadata": {},
   "outputs": [],
   "source": [
    "import pandas as pd\n",
    "import numpy as np\n",
    "import matplotlib.pyplot as plt"
   ]
  },
  {
   "cell_type": "code",
   "execution_count": 4,
   "metadata": {},
   "outputs": [],
   "source": [
    "data = {\n",
    "    'x' : [3, 4, 5, 6, 9, 9, 9, 12, 12, 19, 22],\n",
    "    'y' : [14, 17, 20, 23, 32, 32, 32, 41, 41, 62, 71],\n",
    "    'y real' : [10, 21, 22, 21, 35, 33, 37, 40, 43, 63, 71]\n",
    "    \n",
    "}\n",
    "\n",
    "xmean = np.mean(data['x'])\n",
    "yrealm = np.mean(data['y real'])\n",
    "ym = np.mean(data['y'])"
   ]
  },
  {
   "cell_type": "code",
   "execution_count": 5,
   "metadata": {},
   "outputs": [
    {
     "data": {
      "text/plain": [
       "<matplotlib.collections.PathCollection at 0x7f27803b8a30>"
      ]
     },
     "execution_count": 5,
     "metadata": {},
     "output_type": "execute_result"
    },
    {
     "data": {
      "image/png": "[encoded data removed]",
      "text/plain": [
       "<Figure size 432x288 with 1 Axes>"
      ]
     },
     "metadata": {
      "needs_background": "light"
     },
     "output_type": "display_data"
    }
   ],
   "source": [
    "fig, ax = plt.subplots()\n",
    "ax.scatter(data['x'], data['y real'])"
   ]
  },
  {
   "cell_type": "code",
   "execution_count": 6,
   "metadata": {},
   "outputs": [],
   "source": [
    "# Reta\n",
    "a = 3\n",
    "b = 5"
   ]
  },
  {
   "cell_type": "code",
   "execution_count": 7,
   "metadata": {},
   "outputs": [
    {
     "data": {
      "text/plain": [
       "0.9719570405727924"
      ]
     },
     "execution_count": 7,
     "metadata": {},
     "output_type": "execute_result"
    }
   ],
   "source": [
    "df = pd.DataFrame(data)\n",
    "\n",
    "df['x - xbarra'] = df['x'] - np.mean(df['x'])\n",
    "df['y - ybarra'] = df['y real'] - np.mean(df['y real'])\n",
    "df['x - xbarra 2'] = df['x - xbarra'] ** 2\n",
    "df['y - ybarra 2'] = df['y - ybarra'] ** 2\n",
    "df['(x - xbarra)(y - ybarra)'] = df['x - xbarra'] * df['y - ybarra']\n",
    "df['sst'] = (df['y real'] - yrealm) ** 2\n",
    "df['ssr'] = (df['y'] - ym) ** 2\n",
    "\n",
    "\n",
    "rsquared = sum(df['ssr'] / sum(df['sst']))\n",
    "\n",
    "df\n",
    "rsquared"
   ]
  },
  {
   "cell_type": "code",
   "execution_count": 8,
   "metadata": {},
   "outputs": [
    {
     "data": {
      "text/plain": [
       "(3.0110497237569063, 4.966850828729282)"
      ]
     },
     "execution_count": 8,
     "metadata": {},
     "output_type": "execute_result"
    }
   ],
   "source": [
    "a = sum(df['(x - xbarra)(y - ybarra)']) / sum(df['x - xbarra 2'])\n",
    "b = 14 - (a * 3)\n",
    "\n",
    "df['y regression'] = (a * df['x']) + b\n",
    "\n",
    "df['erro'] = abs(df['y regression'] - df['y real'])\n",
    "df\n",
    "\n",
    "a, b"
   ]
  }
 ],
 "metadata": {
  "interpreter": {
   "hash": "916dbcbb3f70747c44a77c7bcd40155683ae19c65e1c03b4aa3499c5328201f1"
  },
  "kernelspec": {
   "display_name": "Python 3.8.10 64-bit",
   "language": "python",
   "name": "python3"
  },
  "language_info": {
   "codemirror_mode": {
    "name": "ipython",
    "version": 3
   },
   "file_extension": ".py",
   "mimetype": "text/x-python",
   "name": "python",
   "nbconvert_exporter": "python",
   "pygments_lexer": "ipython3",
   "version": "3.8.10"
  },
  "orig_nbformat": 4
 },
 "nbformat": 4,
 "nbformat_minor": 2
}
