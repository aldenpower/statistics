{
 "cells": [
  {
   "cell_type": "markdown",
   "metadata": {},
   "source": [
    "# Medidores de tendência central\n",
    "\n",
    "É uma medida resumida que se propõe a descrever um conjunto de dados com um único valor. Existem basicamente três medidores de tendência central, sendo eles a [Moda](#moda), [Mediana](#mediana) e [Média](#média)."
   ]
  },
  {
   "cell_type": "markdown",
   "metadata": {},
   "source": [
    "## Moda\n",
    "\n",
    "É o valor que tem a maior frequência em um determinada distribuicão de dados."
   ]
  },
  {
   "cell_type": "markdown",
   "metadata": {},
   "source": [
    "### Exemplo 1 (variável qualitativa)\n",
    "\n",
    "Em uma determinada amostra do tempo de falha dos equipamentos em uma determinada fábrica, podemos saber qual o moda da amostra, ou seja, qual equipamento é listado mais vezes com ocorrência de falha em  um determinado mês de trabalho?"
   ]
  },
  {
   "cell_type": "code",
   "execution_count": 1,
   "metadata": {},
   "outputs": [],
   "source": [
    "# Importando bibliotecas\n",
    "import pandas as pd\n",
    "import numpy as np\n",
    "import statistics as st\n",
    "import matplotlib.pyplot as plt\n",
    "from scipy.stats import skewnorm"
   ]
  },
  {
   "cell_type": "code",
   "execution_count": 45,
   "metadata": {},
   "outputs": [],
   "source": [
    "# Selecionar mês entre três\n",
    "mes = 1"
   ]
  },
  {
   "cell_type": "code",
   "execution_count": 46,
   "metadata": {},
   "outputs": [
    {
     "name": "stdout",
     "output_type": "stream",
     "text": [
      "Equipamentos agrupados por frequência de ocorrência de falhas\n",
      "OPEN GATE - BILANCELA                       9\n",
      "PINÇA AUTOMATICA                            8\n",
      "TRANSPORTADOR ROLETES ELEVAÇÃO POR BIELA    4\n",
      "DISPOSITIVO DIMENSIONAL LATERAL             2\n",
      "ROBO                                        1\n",
      "PAINEL DE SOLDA                             1\n",
      "Name: machine type, dtype: int64\n",
      "\n",
      "\u001b[31m Moda da amostra: 9\u001b[0m\n"
     ]
    }
   ],
   "source": [
    "# Carregando os dados\n",
    "df = pd.read_csv(\"./falhas.csv\")\n",
    "\n",
    "# Filtrando dados para o mês\n",
    "mes_df = df[df['month'] == mes]\n",
    "\n",
    "# Agrupando por equipamento e extraindo a frequência\n",
    "mes_grouped = mes_df['machine type'].value_counts()\n",
    "\n",
    "print('Equipamentos agrupados por frequência de ocorrência de falhas')\n",
    "print(mes_grouped, end = '\\n\\n')\n",
    "print('\\x1b[31m Moda da amostra: {}\\x1b[0m'.format(max(mes_grouped.values)))"
   ]
  },
  {
   "cell_type": "markdown",
   "metadata": {},
   "source": [
    "**O equipamento *open gate - bilancela* é a moda da amostra pois possui a maior quantidade de ocorrência de falhas para o mês 1**"
   ]
  },
  {
   "cell_type": "markdown",
   "metadata": {},
   "source": [
    "### Exemplo 2 (variável quantitativa)\n",
    "\n",
    "Analisando os dados de falhas do três meses da amostra é possível coletar o tempo de falha que possui a maior ocorrência, ou seja, por ocorrência de falha qual o valor do tempo de falha que tem maior frequência?"
   ]
  },
  {
   "cell_type": "code",
   "execution_count": 19,
   "metadata": {},
   "outputs": [
    {
     "data": {
      "text/html": [
       "<div>\n",
       "<style scoped>\n",
       "    .dataframe tbody tr th:only-of-type {\n",
       "        vertical-align: middle;\n",
       "    }\n",
       "\n",
       "    .dataframe tbody tr th {\n",
       "        vertical-align: top;\n",
       "    }\n",
       "\n",
       "    .dataframe thead th {\n",
       "        text-align: right;\n",
       "    }\n",
       "</style>\n",
       "<table border=\"1\" class=\"dataframe\">\n",
       "  <thead>\n",
       "    <tr style=\"text-align: right;\">\n",
       "      <th></th>\n",
       "      <th>month</th>\n",
       "      <th>failure time(min)</th>\n",
       "      <th>machine type</th>\n",
       "    </tr>\n",
       "  </thead>\n",
       "  <tbody>\n",
       "    <tr>\n",
       "      <th>0</th>\n",
       "      <td>1</td>\n",
       "      <td>17</td>\n",
       "      <td>TRANSPORTADOR ROLETES ELEVAÇÃO POR BIELA</td>\n",
       "    </tr>\n",
       "    <tr>\n",
       "      <th>1</th>\n",
       "      <td>1</td>\n",
       "      <td>15</td>\n",
       "      <td>TRANSPORTADOR ROLETES ELEVAÇÃO POR BIELA</td>\n",
       "    </tr>\n",
       "    <tr>\n",
       "      <th>2</th>\n",
       "      <td>1</td>\n",
       "      <td>11</td>\n",
       "      <td>OPEN GATE - BILANCELA</td>\n",
       "    </tr>\n",
       "    <tr>\n",
       "      <th>3</th>\n",
       "      <td>1</td>\n",
       "      <td>5</td>\n",
       "      <td>OPEN GATE - BILANCELA</td>\n",
       "    </tr>\n",
       "    <tr>\n",
       "      <th>4</th>\n",
       "      <td>1</td>\n",
       "      <td>6</td>\n",
       "      <td>OPEN GATE - BILANCELA</td>\n",
       "    </tr>\n",
       "    <tr>\n",
       "      <th>...</th>\n",
       "      <td>...</td>\n",
       "      <td>...</td>\n",
       "      <td>...</td>\n",
       "    </tr>\n",
       "    <tr>\n",
       "      <th>70</th>\n",
       "      <td>3</td>\n",
       "      <td>2</td>\n",
       "      <td>PINÇA AUTOMATICA</td>\n",
       "    </tr>\n",
       "    <tr>\n",
       "      <th>71</th>\n",
       "      <td>3</td>\n",
       "      <td>9</td>\n",
       "      <td>DISPOSITIVO DIMENSIONAL LATERAL</td>\n",
       "    </tr>\n",
       "    <tr>\n",
       "      <th>72</th>\n",
       "      <td>3</td>\n",
       "      <td>3</td>\n",
       "      <td>OPEN GATE - BILANCELA</td>\n",
       "    </tr>\n",
       "    <tr>\n",
       "      <th>73</th>\n",
       "      <td>3</td>\n",
       "      <td>7</td>\n",
       "      <td>OPEN GATE - BILANCELA</td>\n",
       "    </tr>\n",
       "    <tr>\n",
       "      <th>74</th>\n",
       "      <td>3</td>\n",
       "      <td>4</td>\n",
       "      <td>OPEN GATE - BILANCELA</td>\n",
       "    </tr>\n",
       "  </tbody>\n",
       "</table>\n",
       "<p>75 rows × 3 columns</p>\n",
       "</div>"
      ],
      "text/plain": [
       "    month  failure time(min)                              machine type\n",
       "0       1                 17  TRANSPORTADOR ROLETES ELEVAÇÃO POR BIELA\n",
       "1       1                 15  TRANSPORTADOR ROLETES ELEVAÇÃO POR BIELA\n",
       "2       1                 11                     OPEN GATE - BILANCELA\n",
       "3       1                  5                     OPEN GATE - BILANCELA\n",
       "4       1                  6                     OPEN GATE - BILANCELA\n",
       "..    ...                ...                                       ...\n",
       "70      3                  2                          PINÇA AUTOMATICA\n",
       "71      3                  9           DISPOSITIVO DIMENSIONAL LATERAL\n",
       "72      3                  3                     OPEN GATE - BILANCELA\n",
       "73      3                  7                     OPEN GATE - BILANCELA\n",
       "74      3                  4                     OPEN GATE - BILANCELA\n",
       "\n",
       "[75 rows x 3 columns]"
      ]
     },
     "execution_count": 19,
     "metadata": {},
     "output_type": "execute_result"
    }
   ],
   "source": [
    "df"
   ]
  },
  {
   "cell_type": "code",
   "execution_count": 47,
   "metadata": {},
   "outputs": [
    {
     "name": "stdout",
     "output_type": "stream",
     "text": [
      "Frequência de ocorrência para cada tempo de | falha tempo(m) - freq.\n",
      "4      13\n",
      "2      12\n",
      "3      12\n",
      "5       9\n",
      "11      6\n",
      "14      3\n",
      "6       3\n",
      "7       3\n",
      "8       2\n",
      "10      2\n",
      "17      2\n",
      "9       2\n",
      "19      1\n",
      "35      1\n",
      "257     1\n",
      "12      1\n",
      "15      1\n",
      "66      1\n",
      "Name: failure time(min), dtype: int64\n",
      "\n",
      "\u001b[31m Moda da amostra: 4\u001b[0m\n"
     ]
    }
   ],
   "source": [
    "print('Frequência de ocorrência para cada tempo de | falha tempo(m) - freq.')\n",
    "ser_freq_time = df['failure time(min)'].value_counts()\n",
    "print(ser_freq_time, end = \"\\n\\n\")\n",
    "print('\\x1b[31m Moda da amostra: {}\\x1b[0m'.format(ser_freq_time.idxmax()))"
   ]
  },
  {
   "cell_type": "markdown",
   "metadata": {},
   "source": [
    "**4 minutos de tempo de falha e a moda pois possui a maior quantidade de ocorrência para a amostra**"
   ]
  },
  {
   "cell_type": "markdown",
   "metadata": {},
   "source": [
    "### Mais sobre a moda\n",
    "\n",
    "- Pode ser utilizada tanto para variável **qualitativa** e **quantitativa**\n",
    "- Pode nao refletir bem o centro da distribuição\n",
    "- Determinado conjunto de dados pode ter duas modas\n",
    "- Amostras com variáveis do tipo **quantitativa contínua** podem nao ter moda"
   ]
  },
  {
   "cell_type": "markdown",
   "metadata": {},
   "source": [
    "***"
   ]
  },
  {
   "cell_type": "markdown",
   "metadata": {},
   "source": [
    "## Mediana\n",
    "\n",
    "A mediana e o elemento do meio de uma determinada distribuição de dados quando os valores estão arranjados em ordem crescente ou decrescente."
   ]
  },
  {
   "cell_type": "markdown",
   "metadata": {},
   "source": [
    "### Exemplo 1\n",
    "\n",
    "A seguir iremos analisar os dados de tempo de navegacão para uma determinada missao cumprida pelo **turtlebot3** utilizando o algoritmo **A***. Foi calculado o tempo em segundos que o **turtlebot3** levava para sair de um ponto inicial ate um ponto final.\n",
    "\n",
    "\n",
    "<p align=\"center\">\n",
    "  <img src=\"./resources/mission2.png\" width=\"686\" height=\"350\"/>\n",
    "</p>"
   ]
  },
  {
   "cell_type": "code",
   "execution_count": 50,
   "metadata": {},
   "outputs": [
    {
     "name": "stdout",
     "output_type": "stream",
     "text": [
      "\u001b[31m Mediana dos dados: 25.25\u001b[0m\n"
     ]
    }
   ],
   "source": [
    "# Dados de navegacao da missao em segundos\n",
    "astar = (\n",
    "    23.2, 27.4, 26.0, 23.0, 28.2, 26.1,\n",
    "    26.6, 25.9, 24.5, 41.9, 22.9, 26.9,\n",
    "    24.2, 24.4, 26.1, 22.8, 23.2, 28.4,\n",
    "    26.0, 23.3, 23.5, 30.1, 22.8, 25.3,\n",
    "    23.4, 24.9, 25.3, 25.2, 23.5, 33.2\n",
    ")\n",
    "\n",
    "print('\\x1b[31m Mediana dos dados: {}\\x1b[0m'.format(np.median(astar)))"
   ]
  },
  {
   "cell_type": "markdown",
   "metadata": {},
   "source": [
    "**25.25 segundos e a mediana da distribuicão**"
   ]
  },
  {
   "cell_type": "markdown",
   "metadata": {},
   "source": [
    "### Mais sobre a mediana\n",
    "\n",
    "- A mediana e menos afetada por valores atípicos (outliers)\n",
    "- Pode ser melhor aplicada no caso em que a distribuição não e simétrica\n",
    "- Nao pode ser utilizada em casos de variável qualitativa nominal"
   ]
  },
  {
   "cell_type": "markdown",
   "metadata": {},
   "source": [
    "***"
   ]
  },
  {
   "cell_type": "markdown",
   "metadata": {},
   "source": [
    "## Média\n",
    "\n",
    "É a soma dos valores de cada observacão dividido pelo numero de observações.\n",
    "\n",
    "$$\\bar{X} = \\frac{\\sum x}{N}$$"
   ]
  },
  {
   "cell_type": "markdown",
   "metadata": {},
   "source": [
    "### Exemplo 1\n",
    "\n",
    "Para o exemplo de navegação com o **turtlebot3** podemos calcular a media da distribuição"
   ]
  },
  {
   "cell_type": "code",
   "execution_count": 52,
   "metadata": {},
   "outputs": [
    {
     "name": "stdout",
     "output_type": "stream",
     "text": [
      "\u001b[31m Média dos dados: 25.94\u001b[0m\n"
     ]
    }
   ],
   "source": [
    "# Media da amostra\n",
    "print('\\x1b[31m Média dos dados: {}\\x1b[0m'.format(np.mean(astar)))"
   ]
  },
  {
   "cell_type": "markdown",
   "metadata": {},
   "source": [
    "**25.94 segundos é a média da distribuição**"
   ]
  },
  {
   "cell_type": "markdown",
   "metadata": {},
   "source": [
    "### Mais sobre a media\n",
    "\n",
    "- A média pode ser calculada para variável quantitativa contínua e discreta\n",
    "- A média não pode ser calculada para variável qualitativa\n",
    "- Pode ser influenciada por valores atípicos (outliers)"
   ]
  },
  {
   "cell_type": "markdown",
   "metadata": {},
   "source": [
    "***"
   ]
  },
  {
   "cell_type": "markdown",
   "metadata": {},
   "source": [
    "## Medidores de tendencia central e o formato da distribuicao\n",
    "\n",
    "O formato de uma distribuição esta diretamente ligado a [média](#média), [mediana](#mediana) e [moda](#moda), e possível fazer algumas análises a respeito dos medidores a partir do formato de um histograma.\n",
    "\n",
    "- Distribuição simétrica : Os dados se encontram centralizados\n",
    "  - **Media = Mediana = Moda**\n",
    "- Distorção positiva: Os dados se encontram na porção a esquerda do histograma\n",
    "  - **Media > mediana** \n",
    "- Distorcao negativa: Os dados se encontram na porção a direita do histograma\n",
    "  - **Media < mediana**\n",
    "\n",
    "<p align=\"center\">\n",
    "  <img src=\"./resources/skewness.png\" width=\"799\" height=\"433\"/>\n",
    "</p>\n"
   ]
  },
  {
   "cell_type": "code",
   "execution_count": 54,
   "metadata": {},
   "outputs": [
    {
     "data": {
      "image/png": "[encoded data removed]",
      "text/plain": [
       "<Figure size 2160x576 with 1 Axes>"
      ]
     },
     "metadata": {
      "needs_background": "light"
     },
     "output_type": "display_data"
    }
   ],
   "source": [
    "# Valor da distorcao\n",
    "skewness = 0\n",
    "\n",
    "maxValue = 100\n",
    "random = skewnorm.rvs(a = skewness,loc = maxValue, size = 10000)\n",
    "random = random - min(random)      \n",
    "random = random / max(random)      #Standadize all the vlues between 0 and 1. \n",
    "random = random * maxValue         #Multiply the standardized values by the maximum value.\n",
    "\n",
    "#Plot histogram to check skewness\n",
    "plt.figure(figsize = (30, 8))\n",
    "plt.hist(random, 100, density= False, color = 'red', alpha=0.1)\n",
    "plt.axvline(np.mean(random), color='r', linestyle='dashed', linewidth=10) \n",
    "plt.axvline(st.median(random), color='c', linestyle='dashed', linewidth=10)\n",
    "plt.show()"
   ]
  }
 ],
 "metadata": {
  "interpreter": {
   "hash": "916dbcbb3f70747c44a77c7bcd40155683ae19c65e1c03b4aa3499c5328201f1"
  },
  "kernelspec": {
   "display_name": "Python 3.8.10 64-bit",
   "language": "python",
   "name": "python3"
  },
  "language_info": {
   "codemirror_mode": {
    "name": "ipython",
    "version": 3
   },
   "file_extension": ".py",
   "mimetype": "text/x-python",
   "name": "python",
   "nbconvert_exporter": "python",
   "pygments_lexer": "ipython3",
   "version": "3.8.10"
  },
  "orig_nbformat": 4
 },
 "nbformat": 4,
 "nbformat_minor": 2
}
