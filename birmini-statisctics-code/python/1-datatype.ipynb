{
 "cells": [
  {
   "cell_type": "markdown",
   "metadata": {},
   "source": [
    "# Tipos de dados"
   ]
  },
  {
   "cell_type": "markdown",
   "metadata": {},
   "source": [
    "Antes de iniciar o estudo sobre estatística é importante estar familiarizado com os tipos de dados\n",
    "\n",
    "## Variáveis\n",
    "Os diferentes tipos de variáveis requerem diferentes tipos de abordagem estatística e de visualização, portanto, torna-se  importante conhecer um pouco mais sobre. As variáveis podem ser classificadas em [quantitativas](#quantitativa) e [qualitativas](#qualitativa)"
   ]
  },
  {
   "cell_type": "markdown",
   "metadata": {},
   "source": [
    "### Quantitativa\n",
    "\n",
    "Variáveis que descrevem **números**"
   ]
  },
  {
   "cell_type": "markdown",
   "metadata": {},
   "source": [
    "#### Discreta"
   ]
  },
  {
   "cell_type": "markdown",
   "metadata": {},
   "source": [
    "Possuem número discreto de valores entre valores possíveis. **Quantos** turtlebots existem no mundo? A reposta para essa pergunta é representada por um valor inteiro.<p align=\"center\">  <img src=\"./resources/wbttb.png\" width=\"451\" height=\"378\"/></p>"
   ]
  },
  {
   "cell_type": "markdown",
   "metadata": {},
   "source": [
    "#### Contínua"
   ]
  },
  {
   "cell_type": "markdown",
   "metadata": {},
   "source": [
    "Exatamente o oposto da variável discreta, são variáveis infinitas e impossíveis de serem contadas. A **distância** para um obstáculo obtido por um sensor LiDAR varia em uma escala contínua, o resultado adquirido pelo LiDAR representa uma aproximação da **distância**.\n",
    "\n",
    "<p align=\"center\">\n",
    "  <img src=\"./resources/ttbrviz.jpg\"/>\n",
    "</p>"
   ]
  },
  {
   "cell_type": "markdown",
   "metadata": {},
   "source": [
    "### Qualitativa"
   ]
  },
  {
   "cell_type": "markdown",
   "metadata": {},
   "source": [
    "Variáveis definidas por **categorias** que classificam."
   ]
  },
  {
   "cell_type": "markdown",
   "metadata": {},
   "source": [
    "#### Nominal"
   ]
  },
  {
   "cell_type": "markdown",
   "metadata": {},
   "source": [
    "*Variáveis que a ordem entre os valores não pode ser estabelecida*\n",
    "\n",
    " Descrevem categorias ou grupos. Clearpath e Boston Dymamics são exemplos de **empresas** que trabalham com robótica.\n",
    "<p align=\"center\">\n",
    "  <img src=\"./resources/empresas.png\" width=\"367\" height=\"209\"/>\n",
    "</p>"
   ]
  },
  {
   "cell_type": "markdown",
   "metadata": {},
   "source": [
    "#### Ordinal"
   ]
  },
  {
   "cell_type": "markdown",
   "metadata": {},
   "source": [
    "*Variáveis que a ordem entre os valores pode ser estabelecida*\n",
    "\n",
    "Supondo uma missão em que um manipulador precisa pressionar um botão  de emergência, a conclusão da missão sugere que **pressionar** o botão representa o sucesso, finalizar a missão em um ponto **intermediário** ou permanecer no ponto **inicial** podem sugerir uma escala progressiva de completude da missão. Os estados da missão são um exemplo de variável do tipo qualitativa ordinal pois podem ser ordenadas. \n",
    "    \n",
    "<p align=\"center\">\n",
    "  <img src=\"./resources/mission.png\"/>\n",
    "</p>"
   ]
  }
 ],
 "metadata": {
  "interpreter": {
   "hash": "a2d40b5f3339e914a37293bdef1d52022d1a1e004727b4ef4dc6ae8b6b39d62b"
  },
  "kernelspec": {
   "display_name": "Python 3.8.10 ('statistics')",
   "language": "python",
   "name": "python3"
  },
  "language_info": {
   "codemirror_mode": {
    "name": "ipython",
    "version": 3
   },
   "file_extension": ".py",
   "mimetype": "text/x-python",
   "name": "python",
   "nbconvert_exporter": "python",
   "pygments_lexer": "ipython3",
   "version": "3.10.4"
  },
  "orig_nbformat": 4
 },
 "nbformat": 4,
 "nbformat_minor": 2
}
