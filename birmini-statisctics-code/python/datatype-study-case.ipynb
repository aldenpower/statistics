{
 "cells": [
  {
   "cell_type": "markdown",
   "metadata": {},
   "source": [
    "Uma variável que representa o peso de uma pessoa representa qual tipo de variável?\n",
    "\n",
    "1. Quantitativa, Discrete\n",
    "2. Quantitativa, Contínua\n",
    "3. Qualitativa, Nominal\n",
    "4. Qualitativa, Ordinal\n",
    "\n",
    "Qual tipo de variável que representa os tipos de sensores ativos em um robô? "
   ]
  }
 ],
 "metadata": {
  "interpreter": {
   "hash": "916dbcbb3f70747c44a77c7bcd40155683ae19c65e1c03b4aa3499c5328201f1"
  },
  "kernelspec": {
   "display_name": "Python 3.8.10 64-bit",
   "language": "python",
   "name": "python3"
  },
  "language_info": {
   "name": "python",
   "version": "3.8.10"
  },
  "orig_nbformat": 4
 },
 "nbformat": 4,
 "nbformat_minor": 2
}
