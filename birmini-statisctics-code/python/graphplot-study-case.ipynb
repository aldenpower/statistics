{
 "cells": [
  {
   "cell_type": "markdown",
   "metadata": {},
   "source": [
    "**Pareto Diagram Exercise**\n",
    "\n",
    "Uma indústria automobilística verificou que, nos últimos meses, ocorreu um aumento do número de reclamações sobre a ocorrência de defeitos no suporte da lanterna traseira de um modelo de automóvel por ela fabricado. A empresa desejava eliminar esta situação indesejável e para isto iniciou o giro do Ciclo do PDCA para melhorar resultados. Na etapa de identificação do problema, os técnicos da indústria classificaram o número total de peças defeituosas encontradas em uma amostra de peças produzidas durante uma semana de trabalho segundo os tipos de defeitos que foram detectados. Os dados obtidos são apresentados na tabela abaixo. Note que nesta tabela a segunda coluna representa a frequência de ocorrência de cada tipo de defeito e a terceira coluna representa o prejuízo resultante da ocorrência de um defeito do tipo correspondente (prejuízo unitário).\n",
    "\n",
    "- **Construa um Gráfico de Pareto onde o eixo vertical represente o prejuízo total associado a cada tipo de defeito.**\n",
    "- **Identifique os tipos de defeitos (com base no ítem anterior) que os técnicos da empresa deveriam \"atacar\" em primeiro lugar, com o objetivo de melhorar os resultados que vinham sendo obtidos pela indústria. Justifique sua resposta.**\n",
    "\n",
    "\n",
    "\n",
    "Defeitos encontrados em uma amostra de suporte da lanterna traseira de um modelo de automóvel durante uma semana de produção de uma indústria."
   ]
  },
  {
   "cell_type": "markdown",
   "metadata": {},
   "source": [
    "| Tipo de defeito | Quant. de Defeitos | Prejuizo Unitario (US$) | Prejuizo total (US$)\n",
    "| --- | --- | --- | ---\n",
    "| Moldagem solta | 14 | 0.25 | 3.5\n",
    "| Solda quebrada | 1 | 0.1 | 0.1\n",
    "| Centro de moldagem deslocado | 4 | 0.15 | 0.6\n",
    "| Lateral de moldagem deslocado | 24 | 0.1 | 2.4\n",
    "| Moldagem arranhada | 1 | 0.1 | 0.1\n",
    "| Moldagem dentada | 44 | 0.75 | 33\n",
    "| Plastico arranhado | 7 | 5.25 | 36.75\n",
    "| Limpeza incompleta | 79 | 0.3 | 23.7\n",
    "| Orificio deslocado| 1 | 0.1 | 0.1\n",
    "| Pino deslocado | 5 | 0.35 | 1.75"
   ]
  }
 ],
 "metadata": {
  "interpreter": {
   "hash": "916dbcbb3f70747c44a77c7bcd40155683ae19c65e1c03b4aa3499c5328201f1"
  },
  "kernelspec": {
   "display_name": "Python 3.8.10 64-bit",
   "language": "python",
   "name": "python3"
  },
  "language_info": {
   "codemirror_mode": {
    "name": "ipython",
    "version": 3
   },
   "file_extension": ".py",
   "mimetype": "text/x-python",
   "name": "python",
   "nbconvert_exporter": "python",
   "pygments_lexer": "ipython3",
   "version": "3.8.10"
  },
  "orig_nbformat": 4
 },
 "nbformat": 4,
 "nbformat_minor": 2
}
