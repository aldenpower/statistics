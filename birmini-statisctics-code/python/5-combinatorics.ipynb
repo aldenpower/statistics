{
 "cells": [
  {
   "cell_type": "markdown",
   "metadata": {},
   "source": [
    "# Análise combinatória\n",
    "\n",
    "Antes de entrar no tema em si, é importante definir o conceito de probabilidade que é a ***Chance de um determinado evento ocorrer***\n",
    "\n",
    "- Exemplo de eventos\n",
    "  - Receber cara ao lançar uma moeda\n",
    "  - Receber o valor 4 ao lançar um dado\n",
    "\n",
    "A probabilidade de determinado evento ocorrer é representado por:\n",
    "\n",
    "$$P(A) =  \\frac{Número de Ocorrências Favoráveis}{Número Total de Ocorrências Favoráveis}$$\n",
    "\n",
    "Para o exemplo da moeda:\n",
    "\n",
    "\n",
    "$$P(A) =  \\frac{1}{2} = 0.5$$"
   ]
  },
  {
   "cell_type": "markdown",
   "metadata": {},
   "source": [
    "## Permutação\n",
    "\n",
    "Número de diferentes possibilidades que podemos arranjar um conjunto de elementos:\n",
    "\n",
    "$$P(n, r) = \\frac{n!}{(n - r)!}$$\n",
    "\n",
    "- n: Total de elementos \n",
    "- r: Itens tomados para a permutação\n",
    "\n"
   ]
  },
  {
   "cell_type": "markdown",
   "metadata": {},
   "source": [
    "Encontrar o número de palavras, com ou sem significado, que podem ser formadas com as letras da palavra \"micro\".\n",
    "\n",
    "$$P(5, 5) = \\frac{5!}{(5 - 5)!}$$\n"
   ]
  },
  {
   "cell_type": "code",
   "execution_count": null,
   "metadata": {},
   "outputs": [],
   "source": [
    "from itertools import permutations\n",
    "perm = permutations([\"m\", \"i\", \"c\", \"r\", \"o\"])\n",
    "# Permutações obtidas\n",
    "count1 = 0\n",
    "for i in list(perm):\n",
    "    count1 += 1\n",
    "    print (i, count1)\n"
   ]
  },
  {
   "cell_type": "markdown",
   "metadata": {},
   "source": [
    "Usando três dígitos de 0 a 9 apenas uma vez para uma senha, encontrar  quantas permutações são possíveis\n",
    "\n",
    "$$P(10, 3) = \\frac{10!}{(10 - 3)!}$$\n"
   ]
  },
  {
   "cell_type": "code",
   "execution_count": null,
   "metadata": {},
   "outputs": [],
   "source": [
    "from itertools import permutations\n",
    "perm = permutations([0, 1, 2, 3, 4, 5, 6, 7, 8, 9], 3)\n",
    "# Permutações obtidas\n",
    "count2 = 0\n",
    "for i in list(perm):\n",
    "    count2 += 1\n",
    "    print (i, count2)"
   ]
  },
  {
   "cell_type": "code",
   "execution_count": null,
   "metadata": {},
   "outputs": [],
   "source": []
  },
  {
   "cell_type": "markdown",
   "metadata": {},
   "source": [
    "## Variação"
   ]
  },
  {
   "cell_type": "markdown",
   "metadata": {},
   "source": [
    "## Combinação "
   ]
  }
 ],
 "metadata": {
  "interpreter": {
   "hash": "916dbcbb3f70747c44a77c7bcd40155683ae19c65e1c03b4aa3499c5328201f1"
  },
  "kernelspec": {
   "display_name": "Python 3.8.10 64-bit",
   "language": "python",
   "name": "python3"
  },
  "language_info": {
   "codemirror_mode": {
    "name": "ipython",
    "version": 3
   },
   "file_extension": ".py",
   "mimetype": "text/x-python",
   "name": "python",
   "nbconvert_exporter": "python",
   "pygments_lexer": "ipython3",
   "version": "3.8.10"
  },
  "orig_nbformat": 4
 },
 "nbformat": 4,
 "nbformat_minor": 2
}
