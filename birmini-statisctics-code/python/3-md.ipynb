{
 "cells": [
  {
   "cell_type": "markdown",
   "metadata": {},
   "source": [
    "# Medidores de dispersão\n",
    "\n",
    "Medidas que se propõe a indicar o grau de aleatoriedade de determinado conjunto de dados, o termo dispersão indica o grau de afastamento de um conjunto de **variáveis numéricas** em relação a sua media."
   ]
  },
  {
   "cell_type": "code",
   "execution_count": 2,
   "metadata": {},
   "outputs": [],
   "source": [
    "import numpy as np\n",
    "import matplotlib.pyplot as plt"
   ]
  },
  {
   "cell_type": "markdown",
   "metadata": {},
   "source": [
    "## Variância\n",
    "\n",
    "O desvio médio absoluto de uma amostra e representado por: $$DAM =  \\frac{\\sum_{i=1}^n |x_i - \\bar x|}{n}$$\n",
    "\n",
    "Esse medidor da a distância média de cada número em relação a média da amostra. No calculo  da **variância**, no entanto, torna-se necessário e mais conveniente elevar ao quadrado cada desvio buscando retornar valores não negativos e para amplificar o efeito do medidor, sendo assim:\n",
    "\n",
    "\n",
    "<p align=\"center\">\n",
    "Populacional\n",
    "</p>\n",
    "\n",
    "$$\\sigma^2 =  \\frac{\\sum_{i=1}^n |x_i - \\bar x| ^ 2}{N}$$ \n",
    "\n",
    "<p align=\"center\">\n",
    "Amostral\n",
    "</p>\n",
    "\n",
    "$$ S^2 =  \\frac{\\sum_{i=1}^n |x_i - \\bar x| ^ 2}{n - 1}$$"
   ]
  },
  {
   "cell_type": "markdown",
   "metadata": {},
   "source": [
    "Para os dados de tempo de navegação para uma determinada missao cumprida pelo **turtlebot3** utilizando o algoritmo **A***. Foi calculado o tempo em segundos que o **turtlebot3** levava para sair de um ponto inicial ate um ponto final."
   ]
  },
  {
   "cell_type": "code",
   "execution_count": 5,
   "metadata": {},
   "outputs": [
    {
     "name": "stdout",
     "output_type": "stream",
     "text": [
      "\u001b[31m Variância dos dados: Pop/sample > 14.24|14.73 \u001b[0m\n"
     ]
    }
   ],
   "source": [
    "# Dados de navegação da missão em segundos\n",
    "astar = (\n",
    "    23.2, 27.4, 26.0, 23.0, 28.2, 26.1,\n",
    "    26.6, 25.9, 24.5, 41.9, 22.9, 26.9,\n",
    "    24.2, 24.4, 26.1, 22.8, 23.2, 28.4,\n",
    "    26.0, 23.3, 23.5, 30.1, 22.8, 25.3,\n",
    "    23.4, 24.9, 25.3, 25.2, 23.5, 33.2\n",
    ")\n",
    "\n",
    "# Calculo da variância\n",
    "sample = np.var(astar, ddof = 1)\n",
    "pop = np.var(astar, ddof = 0)\n",
    "\n",
    "print('\\x1b[31m Variância dos dados: Pop/sample > {}|{} \\x1b[0m'.format(round(pop, 2), round(sample, 2)))"
   ]
  },
  {
   "cell_type": "markdown",
   "metadata": {},
   "source": [
    "## Desvio padrão \n",
    "\n",
    "A variância tem uma desvantagem, e difícil interpretar o resultado numérico em termos práticos, uma variância de 14.73 significa uma grande dispersão? A unidade de medida da variância representa o quadrado da unidade de medida da variável **x**, e mais conveniente calcular o **desvio padrão** que é a raiz quadrada da **variância**, retornando a variavel **x**:\n",
    "\n",
    "<p align=\"center\">\n",
    "Populacional\n",
    "</p>\n",
    "\n",
    "$$\\sigma =  \\sqrt\\frac{\\sum_{i=1}^n |x_i - \\bar x| ^ 2}{N}$$\n",
    "\n",
    "<p align=\"center\">\n",
    "Amostral\n",
    "</p>\n",
    "\n",
    "$$ S =  \\sqrt\\frac{\\sum_{i=1}^n |x_i - \\bar x| ^ 2}{n - 1}$$"
   ]
  },
  {
   "cell_type": "code",
   "execution_count": 7,
   "metadata": {},
   "outputs": [
    {
     "name": "stdout",
     "output_type": "stream",
     "text": [
      "\u001b[31m Desvio padrão dos dados: 3.77 \u001b[0m\n"
     ]
    }
   ],
   "source": [
    "# Calculo do desvio padrão\n",
    "print('\\x1b[31m Desvio padrão dos dados: {} \\x1b[0m'.format(round(np.std(astar), 2)))"
   ]
  },
  {
   "cell_type": "markdown",
   "metadata": {},
   "source": [
    "**3.77 segundos de tempo de navegação representa uma medida mais intuitiva quanto a dispersão dos dados de navegação da missão.**"
   ]
  },
  {
   "cell_type": "markdown",
   "metadata": {},
   "source": [
    "## Comparando dispersão entre amostras\n",
    "\n",
    "### Coeficiente de variação\n",
    "\n",
    "Suponhamos que seja necessário comparar a dispersão de duas amostras correspondentes ao preço de pizzas em duas cidades que utilizam moedas diferentes. O [desvio padrão](#desvio-padrao) retorna um valor **x** referente a unidade de medida da moeda de cada cidade, se tornando inviável comparar as duas amostras, dessa forma, é conveniente utilizar o coeficiente de variação:\n",
    "\n",
    "$$CV = \\frac{S}{\\bar X}$$\n",
    "\n",
    "\n",
    "A seguir um exemplo da comparação utilizando o coeficiente de variação do preço de pizzas em cidades que utilizam dólar e pesos."
   ]
  },
  {
   "cell_type": "code",
   "execution_count": 14,
   "metadata": {},
   "outputs": [
    {
     "name": "stdout",
     "output_type": "stream",
     "text": [
      "\u001b[31m Desvio padrão dos preços em dólar > $ 3.27\u001b[0m\n",
      "\u001b[31m Desvio padrão dos preços em pesos > MXN 61.59\u001b[0m\n",
      "\u001b[31m Coeficiente de variação 0.6\u001b[0m\n",
      "\u001b[31m Coeficinte de variação 0.6 \u001b[0m\n"
     ]
    }
   ],
   "source": [
    "# Preço das pizzas\n",
    "dollar_price = (1, 2, 3, 3, 5, 6, 7, 8, 9, 11)\n",
    "pesos_price = (18.81, 37.62, 56.43, 56.43, 94.05, 112.86, 131.67, 150.48, 169.29, 206.91)\n",
    "# Medias\n",
    "media_dollar = np.mean(dollar_price)\n",
    "media_pesos = np.mean(pesos_price)\n",
    "# Desvio padrão\n",
    "std_dollar = np.std(dollar_price, ddof = 1)\n",
    "std_pesos = np.std(pesos_price, ddof = 1)\n",
    "\n",
    "# Coeficiente de varição\n",
    "print(\n",
    "    '\\x1b[31m Desvio padrão dos preços em dólar > $ {}\\x1b[0m'.format(round(std_dollar, 2)),\n",
    "    '\\x1b[31m Desvio padrão dos preços em pesos > MXN {}\\x1b[0m'.format(round(std_pesos, 2)),\n",
    "    '\\x1b[31m Coeficiente de variação {}\\x1b[0m'.format(round(std_dollar / media_dollar, 2)),\n",
    "    '\\x1b[31m Coeficinte de variação {} \\x1b[0m'.format(round(std_pesos / media_pesos, 2)),\n",
    "    sep = \"\\n\"\n",
    ")"
   ]
  }
 ],
 "metadata": {
  "interpreter": {
   "hash": "916dbcbb3f70747c44a77c7bcd40155683ae19c65e1c03b4aa3499c5328201f1"
  },
  "kernelspec": {
   "display_name": "Python 3.8.10 64-bit",
   "language": "python",
   "name": "python3"
  },
  "language_info": {
   "codemirror_mode": {
    "name": "ipython",
    "version": 3
   },
   "file_extension": ".py",
   "mimetype": "text/x-python",
   "name": "python",
   "nbconvert_exporter": "python",
   "pygments_lexer": "ipython3",
   "version": "3.8.10"
  },
  "orig_nbformat": 4
 },
 "nbformat": 4,
 "nbformat_minor": 2
}
